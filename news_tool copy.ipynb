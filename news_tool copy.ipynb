{
 "cells": [
  {
   "cell_type": "code",
   "execution_count": 8,
   "id": "64443fff",
   "metadata": {},
   "outputs": [
    {
     "data": {
      "text/plain": [
       "True"
      ]
     },
     "execution_count": 8,
     "metadata": {},
     "output_type": "execute_result"
    }
   ],
   "source": [
    "from smolagents import CodeAgent, OpenAIServerModel, MultiStepAgent, Tool\n",
    "import tools\n",
    "import requests\n",
    "import wikipediaapi\n",
    "from dotenv import load_dotenv\n",
    "import os\n",
    "import wikipediaapi\n",
    "load_dotenv()\n"
   ]
  },
  {
   "cell_type": "code",
   "execution_count": 9,
   "id": "b5fe2849",
   "metadata": {},
   "outputs": [
    {
     "data": {
      "text/plain": [
       "'Un topic peut être :\\n\\n\\n\\nen linguistique, un terme de sémantique équivalent à thème dans la terminologie anglophone ;'"
      ]
     },
     "execution_count": 9,
     "metadata": {},
     "output_type": "execute_result"
    }
   ],
   "source": [
    "def search_wikipedia(topic: str) -> str:\n",
    "    wiki = wikipediaapi.Wikipedia(\n",
    "        language='fr',\n",
    "        user_agent='MyWikipediaBot/1.0 (https://github.com/monutilisateur/monbot; contact: email@example.com)'\n",
    "    )\n",
    "    page = wiki.page(topic)\n",
    "\n",
    "    if not page.exists():\n",
    "        return f\"La page '{topic}' n'a pas été trouvée sur Wikipédia.\"\n",
    "\n",
    "    summary = page.summary.strip()\n",
    "    paragraphs = summary.split('\\n')\n",
    "    top_paragraphs = \"\\n\\n\".join(paragraphs[:3])\n",
    "\n",
    "    return top_paragraphs\n",
    "\n",
    "search_wikipedia(\"topic\")"
   ]
  },
  {
   "cell_type": "code",
   "execution_count": 10,
   "id": "d206f805",
   "metadata": {},
   "outputs": [],
   "source": [
    "wikipedia_tool=search_wikipedia"
   ]
  },
  {
   "cell_type": "code",
   "execution_count": 11,
   "id": "684434bf",
   "metadata": {},
   "outputs": [
    {
     "data": {
      "text/plain": [
       "[{'sources': 'The Verge',\n",
       "  'title': 'Senate passes GENIUS stablecoin bill in a win for the crypto industry',\n",
       "  'date': '2025-06-18T01:48:00Z',\n",
       "  'description': 'In a 68-30 vote on Tuesday evening, the Senate overwhelmingly passed the GENIUS Act with bipartisan support. Eighteen Democrats joined the majority of Republicans in passing the bill, which is the first to establish a federal regulatory framework for stableco…'},\n",
       " {'sources': 'Slashdot.org',\n",
       "  'title': 'Stablecoin Issuer Circle Soars 168% In IPO Debut',\n",
       "  'date': '2025-06-05T22:20:00Z',\n",
       "  'description': 'Circle Internet Group surged 168% in its NYSE debut, raising nearly $1.1 billion after pricing its IPO at $31 and opening at $69. \"At one point, shares traded as high as $103.75,\" notes CNBC. From the report: The New York-based company priced its IPO late Wed…'},\n",
       " {'sources': 'Slashdot.org',\n",
       "  'title': 'Senate Passes Stablecoin Bill In Major Win For Crypto Industry',\n",
       "  'date': '2025-06-18T01:30:00Z',\n",
       "  'description': 'The U.S. Senate has approved the GENIUS Act with a 68-30 final vote that \"saw a huge surge of Democrats joining their Republican counterparts,\" reports CoinDesk. What the bill sets out to do is create the first federal regulatory framework for U.S. stablecoin…'}]"
      ]
     },
     "execution_count": 11,
     "metadata": {},
     "output_type": "execute_result"
    }
   ],
   "source": [
    "def get_latest_news(topic: str) -> str:\n",
    "    api_key=os.getenv(\"NEWS_API_KEY\")\n",
    "    url = f\"https://newsapi.org/v2/everything?q=stablecoin&apiKey={api_key}\" \n",
    "    \n",
    "    return requests.get(url)\n",
    "topic = 'topic'\n",
    "latest_new = get_latest_news(topic)\n",
    "new_content=latest_new.json()\n",
    "articles = new_content.get('articles')\n",
    "articles\n",
    "articles = new_content.get('articles')\n",
    "responses = []\n",
    "limit = 0\n",
    "nb_range = 3\n",
    "for i in range(nb_range):\n",
    "    article = articles[i]\n",
    "    article_row = {\n",
    "        \"sources\": article.get('source').get('name'),\n",
    "        \"title\": article.get('title'),\n",
    "        \"date\": article.get('publishedAt'),\n",
    "        \"description\": article.get('description')\n",
    "    }\n",
    "    responses.append(article_row)\n",
    "responses"
   ]
  },
  {
   "cell_type": "code",
   "execution_count": 12,
   "id": "a50c2942",
   "metadata": {},
   "outputs": [],
   "source": [
    "news_tool=get_latest_news"
   ]
  },
  {
   "cell_type": "code",
   "execution_count": 13,
   "id": "3302fc77",
   "metadata": {},
   "outputs": [
    {
     "ename": "TypeError",
     "evalue": "Can't instantiate abstract class MultiStepAgent without an implementation for abstract method 'initialize_system_prompt'",
     "output_type": "error",
     "traceback": [
      "\u001b[31m---------------------------------------------------------------------------\u001b[39m",
      "\u001b[31mTypeError\u001b[39m                                 Traceback (most recent call last)",
      "\u001b[36mCell\u001b[39m\u001b[36m \u001b[39m\u001b[32mIn[13]\u001b[39m\u001b[32m, line 2\u001b[39m\n\u001b[32m      1\u001b[39m planner_prompt=\u001b[33m\"\u001b[39m\u001b[33mTu es un planificateur expert. Ta mission est de décomposer une question complexe et d\u001b[39m\u001b[33m'\u001b[39m\u001b[33mutiliser les outils à ta disposition pour collecter les informations nécessaires.\u001b[39m\u001b[33m\"\u001b[39m\n\u001b[32m----> \u001b[39m\u001b[32m2\u001b[39m PlannerAgent = \u001b[43mMultiStepAgent\u001b[49m\u001b[43m(\u001b[49m\n\u001b[32m      3\u001b[39m \u001b[43m    \u001b[49m\u001b[43mmodel\u001b[49m\u001b[43m=\u001b[49m\u001b[43mOpenAIServerModel\u001b[49m\u001b[43m,\u001b[49m\n\u001b[32m      4\u001b[39m \u001b[43m    \u001b[49m\u001b[43mplanning_interval\u001b[49m\u001b[43m=\u001b[49m\u001b[43m(\u001b[49m\u001b[32;43m1\u001b[39;49m\u001b[43m)\u001b[49m\u001b[43m,\u001b[49m\n\u001b[32m      5\u001b[39m \u001b[43m    \u001b[49m\u001b[43msystem_prompt\u001b[49m\u001b[43m=\u001b[49m\u001b[43mplanner_prompt\u001b[49m\u001b[43m,\u001b[49m\n\u001b[32m      6\u001b[39m \u001b[43m    \u001b[49m\u001b[43mtools\u001b[49m\u001b[43m=\u001b[49m\u001b[43m[\u001b[49m\u001b[43mwikipedia_tool\u001b[49m\u001b[43m,\u001b[49m\u001b[43m \u001b[49m\u001b[43mnews_tool\u001b[49m\u001b[43m]\u001b[49m\n\u001b[32m      7\u001b[39m \u001b[43m)\u001b[49m\n",
      "\u001b[31mTypeError\u001b[39m: Can't instantiate abstract class MultiStepAgent without an implementation for abstract method 'initialize_system_prompt'"
     ]
    }
   ],
   "source": [
    "planner_prompt=\"Tu es un planificateur expert. Ta mission est de décomposer une question complexe et d'utiliser les outils à ta disposition pour collecter les informations nécessaires.\"\n",
    "PlannerAgent = MultiStepAgent(\n",
    "    model=OpenAIServerModel,\n",
    "    planning_interval=(1),\n",
    "    system_prompt=planner_prompt,\n",
    "    tools=[wikipedia_tool, news_tool]\n",
    ")"
   ]
  }
 ],
 "metadata": {
  "kernelspec": {
   "display_name": "venv",
   "language": "python",
   "name": "python3"
  },
  "language_info": {
   "codemirror_mode": {
    "name": "ipython",
    "version": 3
   },
   "file_extension": ".py",
   "mimetype": "text/x-python",
   "name": "python",
   "nbconvert_exporter": "python",
   "pygments_lexer": "ipython3",
   "version": "3.12.3"
  }
 },
 "nbformat": 4,
 "nbformat_minor": 5
}
