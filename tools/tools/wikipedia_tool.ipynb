{
 "cells": [
  {
   "cell_type": "code",
   "execution_count": null,
   "id": "6a09c73d",
   "metadata": {},
   "outputs": [],
   "source": [
    "from smolagents import CodeAgent, OpenAIServerModel\n",
    "from dotenv import load_dotenv\n",
    "import os\n",
    "load_dotenv()\n",
    "\n",
    "\n",
    "model = OpenAIServerModel(\n",
    "    #base_url=\"https://api.openai.com/v1\",\n",
    "    model_id=\"gpt-4\",  # ou \"gpt-3.5-turbo\"\n",
    "    api_key=os.getenv('OPEN_AI_API') # remplace par ton vrai token\n",
    ")\n",
    "\n",
    "agent = CodeAgent(tools=[], model=model, add_base_tools=True)\n",
    "\n",
    "result = agent.run(\"Quel est le 118ᵉ nombre de Fibonacci ?\")\n",
    "print(result)\n",
    "\n",
    "\n"
   ]
  },
  {
   "cell_type": "code",
   "execution_count": 9,
   "id": "33be3295",
   "metadata": {},
   "outputs": [],
   "source": [
    "import wikipediaapi\n",
    "\n",
    "def search_wikipedia(topic: str) -> str:\n",
    "    wiki = wikipediaapi.Wikipedia(\n",
    "        language='fr',\n",
    "        user_agent='MyWikipediaBot/1.0 (https://github.com/monutilisateur/monbot; contact: email@example.com)'\n",
    "    )\n",
    "    page = wiki.page(topic)\n",
    "\n",
    "    if not page.exists():\n",
    "        return f\"La page '{topic}' n'a pas été trouvée sur Wikipédia.\"\n",
    "\n",
    "    summary = page.summary.strip()\n",
    "    paragraphs = summary.split('\\n')\n",
    "    top_paragraphs = \"\\n\\n\".join(paragraphs[:3])\n",
    "\n",
    "    return top_paragraphs\n",
    "\n"
   ]
  },
  {
   "cell_type": "code",
   "execution_count": 10,
   "id": "cce11c34",
   "metadata": {},
   "outputs": [
    {
     "data": {
      "text/plain": [
       "\"Désiré Doué, né le 3 juin 2005 à Angers (Maine-et-Loire), est un footballeur international français qui évolue au poste de milieu offensif ou d’ailier au Paris Saint-Germain.\\n\\nFormé au Stade rennais FC, Désiré Doué y débute au niveau professionnel en 2022, à 17 ans. Durant deux saisons, il découvre la Ligue 1 et la Ligue Europa. Après deux premières saisons pleines, il décide de rejoindre le Paris Saint-Germain, s'y impose dès les premiers mois et remporte, à 19 ans, le doublé Coupe/Championnat et surtout la Ligue des champions 2025 remportée contre l'Inter Milan cinq buts à zéro, lors de laquelle il est nommé joueur du match, avec notamment deux buts inscrits et une passe décisive délivrée.\\n\\nAprès avoir été médaillé d'argent aux Jeux olympiques de Paris 2024, Désiré Doué est sélectionné en équipe de France A à partir de 2025.\""
      ]
     },
     "execution_count": 10,
     "metadata": {},
     "output_type": "execute_result"
    }
   ],
   "source": [
    "search_wikipedia(\"Désiré Doué\")"
   ]
  },
  {
   "cell_type": "code",
   "execution_count": null,
   "id": "d661f27b",
   "metadata": {},
   "outputs": [],
   "source": [
    "import requests\n",
    "\n",
    "url = \"https://newsapi.org/v2/everything?q=Tesla&apiKey=7e7e8a8ed6a047a590f9a02205be4805\"\n",
    "\n",
    "payload = {}\n",
    "headers = {}\n",
    "\n",
    "response = requests.request(\"GET\", url, headers=headers, data=payload)\n",
    "\n",
    "print(response.text)\n",
    "\n"
   ]
  }
 ],
 "metadata": {
  "kernelspec": {
   "display_name": "venv",
   "language": "python",
   "name": "python3"
  },
  "language_info": {
   "codemirror_mode": {
    "name": "ipython",
    "version": 3
   },
   "file_extension": ".py",
   "mimetype": "text/x-python",
   "name": "python",
   "nbconvert_exporter": "python",
   "pygments_lexer": "ipython3",
   "version": "3.12.3"
  }
 },
 "nbformat": 4,
 "nbformat_minor": 5
}
