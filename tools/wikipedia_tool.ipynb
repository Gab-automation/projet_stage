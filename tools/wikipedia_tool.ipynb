{
 "cells": [
  {
   "cell_type": "code",
   "execution_count": 1,
   "id": "33be3295",
   "metadata": {},
   "outputs": [],
   "source": [
    "import wikipediaapi\n",
    "\n",
    "def search_wikipedia(topic: str) -> str:\n",
    "    wiki = wikipediaapi.Wikipedia(\n",
    "        language='fr',\n",
    "        user_agent='MyWikipediaBot/1.0 (https://github.com/monutilisateur/monbot; contact: email@example.com)'\n",
    "    )\n",
    "    page = wiki.page(topic)\n",
    "\n",
    "    if not page.exists():\n",
    "        return f\"La page '{topic}' n'a pas été trouvée sur Wikipédia.\"\n",
    "\n",
    "    summary = page.summary.strip()\n",
    "    paragraphs = summary.split('\\n')\n",
    "    top_paragraphs = \"\\n\\n\".join(paragraphs[:3])\n",
    "\n",
    "    return top_paragraphs\n",
    "\n"
   ]
  },
  {
   "cell_type": "code",
   "execution_count": 2,
   "id": "cce11c34",
   "metadata": {},
   "outputs": [
    {
     "data": {
      "text/plain": [
       "\"Désiré Doué, né le 3 juin 2005 à Angers (Maine-et-Loire), est un footballeur international français qui évolue au poste de milieu offensif ou d’ailier au Paris Saint-Germain.\\n\\nFormé au Stade rennais FC, Désiré Doué y débute au niveau professionnel en 2022, à 17 ans. Durant deux saisons, il découvre la Ligue 1 et la Ligue Europa. Après deux premières saisons pleines, il décide de rejoindre le Paris Saint-Germain, s'y impose dès les premiers mois et remporte, à 19 ans, le doublé Coupe/Championnat et surtout la Ligue des champions 2025 remportée contre l'Inter Milan cinq buts à zéro, lors de laquelle il est nommé joueur du match, avec notamment deux buts inscrits et une passe décisive délivrée.\\n\\nAprès avoir été médaillé d'argent aux Jeux olympiques de Paris 2024, Désiré Doué est sélectionné en équipe de France A à partir de 2025.\""
      ]
     },
     "execution_count": 2,
     "metadata": {},
     "output_type": "execute_result"
    }
   ],
   "source": [
    "search_wikipedia(\"Désiré Doué\")"
   ]
  }
 ],
 "metadata": {
  "kernelspec": {
   "display_name": "venv",
   "language": "python",
   "name": "python3"
  },
  "language_info": {
   "codemirror_mode": {
    "name": "ipython",
    "version": 3
   },
   "file_extension": ".py",
   "mimetype": "text/x-python",
   "name": "python",
   "nbconvert_exporter": "python",
   "pygments_lexer": "ipython3",
   "version": "3.12.3"
  }
 },
 "nbformat": 4,
 "nbformat_minor": 5
}
