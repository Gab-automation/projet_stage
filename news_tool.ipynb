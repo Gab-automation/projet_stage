{
 "cells": [
  {
   "cell_type": "code",
   "execution_count": null,
   "id": "899baaf5",
   "metadata": {},
   "outputs": [],
   "source": [
    "import requests\n",
    "from dotenv import load_dotenv\n",
    "import os\n",
    "load_dotenv()\n",
    "\n",
    "def get_latest_news(topic: str) -> str:\n",
    "    api_key=os.getenv(\"NEWS_API_KEY\")\n",
    "    url = f\"https://newsapi.org/v2/everything?q=stablecoin&apiKey={api_key}\" \n",
    "    \n",
    "    return requests.get(url)\n"
   ]
  },
  {
   "cell_type": "code",
   "execution_count": null,
   "id": "12f52e08",
   "metadata": {},
   "outputs": [],
   "source": [
    "topic = 'stablecoin'\n",
    "latest_new = get_latest_news(topic)"
   ]
  },
  {
   "cell_type": "code",
   "execution_count": null,
   "id": "d1812a6e",
   "metadata": {},
   "outputs": [],
   "source": [
    "new_content=latest_new.json()"
   ]
  },
  {
   "cell_type": "code",
   "execution_count": null,
   "id": "df6ea790",
   "metadata": {},
   "outputs": [],
   "source": [
    "articles = new_content.get('articles')\n",
    "articles"
   ]
  },
  {
   "cell_type": "code",
   "execution_count": null,
   "id": "ccab5fd0",
   "metadata": {},
   "outputs": [],
   "source": [
    "articles = new_content.get('articles')\n",
    "responses = []\n",
    "limit = 0\n",
    "nb_range = 3\n",
    "for i in range(nb_range):\n",
    "    article = articles[i]\n",
    "    article_row = {\n",
    "        \"sources\": article.get('source').get('name'),\n",
    "        \"title\": article.get('title'),\n",
    "        \"date\": article.get('publishedAt'),\n",
    "        \"description\": article.get('description')\n",
    "    }\n",
    "    responses.append(article_row)"
   ]
  },
  {
   "cell_type": "code",
   "execution_count": null,
   "id": "8f9301e9",
   "metadata": {},
   "outputs": [],
   "source": [
    "responses"
   ]
  }
 ],
 "metadata": {
  "kernelspec": {
   "display_name": "venv",
   "language": "python",
   "name": "python3"
  },
  "language_info": {
   "codemirror_mode": {
    "name": "ipython",
    "version": 3
   },
   "file_extension": ".py",
   "mimetype": "text/x-python",
   "name": "python",
   "nbconvert_exporter": "python",
   "pygments_lexer": "ipython3",
   "version": "3.12.3"
  }
 },
 "nbformat": 4,
 "nbformat_minor": 5
}
